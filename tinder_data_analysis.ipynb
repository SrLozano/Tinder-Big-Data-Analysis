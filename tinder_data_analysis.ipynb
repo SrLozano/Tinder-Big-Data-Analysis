{
 "cells": [
  {
   "cell_type": "markdown",
   "id": "161d2de1",
   "metadata": {},
   "source": [
    "# Tinder Analysis\n",
    "\n",
    "**TODO**:\n",
    "\n",
    "    - Missing values \n",
    "    \n",
    "    - Data preprocessing?\n",
    "    \n",
    "    - Statistics: https://tinderinsights.com/\n",
    "    \n",
    "    - Drop redundant messagesReceived and messagesSent \n",
    "    \n",
    "    - education and educationLevel. What is the difference??????\n",
    "    \n",
    "    \n",
    "**Questions:**\n",
    "\n",
    "    - How many people have finished college? Of the ones that have finished college, is there any sex bias?\n",
    "    \n",
    "    - What is the minimum, mean and maximum percentage of one message-conversations for every sex?\n",
    "    \n",
    "    - Who uses more instagram by sex?\n",
    "    \n",
    "    - More used emojis by sex\n",
    "    \n",
    "    - Number of matches by sex\n",
    "    \n",
    "    - Number of matches by day of the week\n",
    "    \n",
    "    - "
   ]
  },
  {
   "cell_type": "markdown",
   "id": "8ea7f505",
   "metadata": {},
   "source": [
    "# Problem description\n",
    "\n",
    "Describe the problem, including any required background, and explain why you believe it is important / interesting.\n",
    "\n",
    "\n",
    "No description of the data is given"
   ]
  },
  {
   "cell_type": "markdown",
   "id": "9f1fdbde",
   "metadata": {},
   "source": [
    "# Data collection\n",
    "\n",
    "Where was the data obtained?"
   ]
  },
  {
   "cell_type": "markdown",
   "id": "3c7a2e89",
   "metadata": {},
   "source": [
    "# Mongo DB data load\n",
    "\n",
    "Relational vs. No-SQL, which one makes more sense?"
   ]
  },
  {
   "cell_type": "code",
   "execution_count": 3,
   "id": "83c48fa5",
   "metadata": {},
   "outputs": [
    {
     "name": "stdout",
     "output_type": "stream",
     "text": [
      "['admin', 'bda', 'config', 'local']\n"
     ]
    }
   ],
   "source": [
    "import json\n",
    "import pymongo\n",
    "from pymongo import MongoClient\n",
    "\n",
    "client = MongoClient('localhost', 27017, username='mongoadmin', password='pass1234')\n",
    "\n",
    "# Get the list of DBs already defined\n",
    "print(client.list_database_names())\n",
    "\n",
    "# Create a new DB - bda\n",
    "database = client['bda']\n",
    "\n",
    "# Create a collection\n",
    "tinder = database.tinder\n",
    "\n",
    "# Load the data\n",
    "with open('tinder_dataset/profiles_2021-11-10.json', 'r') as f:\n",
    "    data = json.load(f)"
   ]
  },
  {
   "cell_type": "code",
   "execution_count": 4,
   "id": "1d96b8d6",
   "metadata": {},
   "outputs": [
    {
     "data": {
      "text/plain": [
       "1209"
      ]
     },
     "execution_count": 4,
     "metadata": {},
     "output_type": "execute_result"
    }
   ],
   "source": [
    "# Load the data\n",
    "result = tinder.insert_many(data)\n",
    "tinder.count_documents({})"
   ]
  },
  {
   "cell_type": "code",
   "execution_count": 5,
   "id": "01ad6a67",
   "metadata": {},
   "outputs": [
    {
     "data": {
      "text/plain": [
       "{'birthDate': '1976-01-01T00:00:00.000Z',\n",
       " 'ageFilterMin': 21,\n",
       " 'ageFilterMax': 35,\n",
       " 'cityName': 'Trondheim',\n",
       " 'country': 'Norway',\n",
       " 'createDate': '2016-01-01T09:30:07.551Z',\n",
       " 'education': 'Has high school and/or college education',\n",
       " 'gender': 'M',\n",
       " 'interestedIn': 'F',\n",
       " 'genderFilter': 'F',\n",
       " 'instagram': False,\n",
       " 'spotify': False,\n",
       " 'jobs': [],\n",
       " 'educationLevel': 'Has high school and/or college education',\n",
       " 'schools': []}"
      ]
     },
     "execution_count": 5,
     "metadata": {},
     "output_type": "execute_result"
    }
   ],
   "source": [
    "# Check if data was loaded correctly. Only one key is displayed because of the extremely long output\n",
    "tinder.find_one()[list(tinder.find_one().keys())[-2]]"
   ]
  },
  {
   "cell_type": "markdown",
   "id": "1e04c03a",
   "metadata": {},
   "source": [
    "# Data description\n",
    "\n",
    "Get to know the data. The following section seeks to **describe the data. It should be taken into account that not a single description or explanation was given. Hence, an analysis should be driven in order to perfectly understand the data at hand, allowing the posterior analysis of the data and the extraction of valuable information**. Thus, the data is analysed field by field and each one gets described thanks to the experiments carried out and the actual use of the application in order to discover the concrete meaning of each one."
   ]
  },
  {
   "cell_type": "code",
   "execution_count": 6,
   "id": "61e9c51b",
   "metadata": {},
   "outputs": [
    {
     "data": {
      "text/plain": [
       "dict_keys(['_id', '__v', 'appOpens', 'conversations', 'conversationsMeta', 'matches', 'messages', 'messagesReceived', 'messagesSent', 'swipeLikes', 'swipePasses', 'swipes', 'user', 'userId'])"
      ]
     },
     "execution_count": 6,
     "metadata": {},
     "output_type": "execute_result"
    }
   ],
   "source": [
    "# Get list of keys\n",
    "tinder.find_one().keys()"
   ]
  },
  {
   "cell_type": "markdown",
   "id": "a68b2848",
   "metadata": {},
   "source": [
    "**Explore all keys one by one**"
   ]
  },
  {
   "cell_type": "code",
   "execution_count": 7,
   "id": "f2360a0d",
   "metadata": {},
   "outputs": [
    {
     "name": "stdout",
     "output_type": "stream",
     "text": [
      "{'_id': '00b74e27ad1cbb2ded8e907fcc49eaaf'}\n",
      "Number of different id's: 1209\n"
     ]
    }
   ],
   "source": [
    "# Get an idea of how id's are\n",
    "cursor = tinder.find_one({}, {'_id': 1})\n",
    "print(cursor)\n",
    "\n",
    "# Get all possible values of id's\n",
    "cursor = tinder.distinct('_id')\n",
    "print(f\"Number of different id's: {len(cursor)}\")"
   ]
  },
  {
   "cell_type": "markdown",
   "id": "d9ea47b9",
   "metadata": {},
   "source": [
    "**From what can be extracted, '_id' is a unique and anonymous identifier for each instance of the dataset.** Moreover, __v is a versionKey that contains information about the internal revision of the document so it's not remarkable for the current analysis."
   ]
  },
  {
   "cell_type": "code",
   "execution_count": 8,
   "id": "04a39b3e",
   "metadata": {
    "scrolled": true
   },
   "outputs": [
    {
     "data": {
      "text/plain": [
       "{'2016-01-02': 26,\n",
       " '2016-01-13': 10,\n",
       " '2016-01-15': 28,\n",
       " '2016-01-17': 18,\n",
       " '2016-01-19': 15,\n",
       " '2016-01-20': 2,\n",
       " '2016-01-22': 16,\n",
       " '2016-01-30': 17,\n",
       " '2016-01-31': 17,\n",
       " '2016-02-01': 7}"
      ]
     },
     "execution_count": 8,
     "metadata": {},
     "output_type": "execute_result"
    }
   ],
   "source": [
    "# Get an idea of how appOpens is. Only some entries are displayed because of the extremely long output\n",
    "cursor = tinder.find_one({}, {'appOpens': 1})\n",
    "dict(list(cursor['appOpens'].items())[0:10])"
   ]
  },
  {
   "cell_type": "markdown",
   "id": "27709729",
   "metadata": {},
   "source": [
    "From what can be extracted, **'appOpens' refers to the number of times a user opens the app by date**. The information is stored in a dictionary where the key is the date."
   ]
  },
  {
   "cell_type": "code",
   "execution_count": 9,
   "id": "18a6f370",
   "metadata": {},
   "outputs": [
    {
     "data": {
      "text/plain": [
       "[{'match_id': 'Match 739',\n",
       "  'messages': [{'to': 738,\n",
       "    'from': 'You',\n",
       "    'sent_date': 'Sun, 04 Aug 2019 12:50:22 GMT'},\n",
       "   {'to': 738, 'from': 'You', 'sent_date': 'Fri, 09 Aug 2019 19:39:31 GMT'},\n",
       "   {'to': 738, 'from': 'You', 'sent_date': 'Sun, 11 Aug 2019 12:14:55 GMT'}]},\n",
       " {'match_id': 'Match 738',\n",
       "  'messages': [{'to': 737,\n",
       "    'from': 'You',\n",
       "    'sent_date': 'Sat, 03 Aug 2019 23:35:18 GMT'},\n",
       "   {'to': 737, 'from': 'You', 'sent_date': 'Sun, 04 Aug 2019 12:01:16 GMT'},\n",
       "   {'to': 737, 'from': 'You', 'sent_date': 'Sun, 04 Aug 2019 14:47:34 GMT'},\n",
       "   {'to': 737, 'from': 'You', 'sent_date': 'Sun, 04 Aug 2019 15:53:06 GMT'},\n",
       "   {'to': 737, 'from': 'You', 'sent_date': 'Sun, 04 Aug 2019 21:02:01 GMT'},\n",
       "   {'to': 737, 'from': 'You', 'sent_date': 'Mon, 05 Aug 2019 06:15:28 GMT'},\n",
       "   {'to': 737, 'from': 'You', 'sent_date': 'Mon, 05 Aug 2019 06:42:17 GMT'},\n",
       "   {'to': 737, 'from': 'You', 'sent_date': 'Mon, 05 Aug 2019 06:42:53 GMT'},\n",
       "   {'to': 737, 'from': 'You', 'sent_date': 'Mon, 05 Aug 2019 06:43:26 GMT'},\n",
       "   {'to': 737, 'from': 'You', 'sent_date': 'Mon, 05 Aug 2019 06:51:42 GMT'},\n",
       "   {'to': 737, 'from': 'You', 'sent_date': 'Thu, 08 Aug 2019 09:48:52 GMT'},\n",
       "   {'to': 737, 'from': 'You', 'sent_date': 'Thu, 08 Aug 2019 15:44:18 GMT'},\n",
       "   {'to': 737, 'from': 'You', 'sent_date': 'Thu, 08 Aug 2019 15:44:45 GMT'},\n",
       "   {'to': 737, 'from': 'You', 'sent_date': 'Thu, 08 Aug 2019 15:44:52 GMT'},\n",
       "   {'to': 737, 'from': 'You', 'sent_date': 'Thu, 08 Aug 2019 17:02:12 GMT'},\n",
       "   {'to': 737, 'from': 'You', 'sent_date': 'Thu, 08 Aug 2019 17:03:57 GMT'},\n",
       "   {'to': 737, 'from': 'You', 'sent_date': 'Thu, 08 Aug 2019 17:33:25 GMT'},\n",
       "   {'to': 737, 'from': 'You', 'sent_date': 'Thu, 08 Aug 2019 17:34:00 GMT'},\n",
       "   {'to': 737, 'from': 'You', 'sent_date': 'Thu, 08 Aug 2019 19:41:16 GMT'}]}]"
      ]
     },
     "execution_count": 9,
     "metadata": {},
     "output_type": "execute_result"
    }
   ],
   "source": [
    "# Get an idea of how conversations are\n",
    "cursor = tinder.find_one({}, {'conversations': 1})\n",
    "cursor['conversations'][0:2]"
   ]
  },
  {
   "cell_type": "code",
   "execution_count": 10,
   "id": "16e4be4e",
   "metadata": {},
   "outputs": [
    {
     "data": {
      "text/plain": [
       "['You']"
      ]
     },
     "execution_count": 10,
     "metadata": {},
     "output_type": "execute_result"
    }
   ],
   "source": [
    "# Get all possible values for the sender of the messages\n",
    "cursor = tinder.distinct('conversations.messages.from')\n",
    "cursor"
   ]
  },
  {
   "cell_type": "markdown",
   "id": "95e78425",
   "metadata": {},
   "source": [
    "From what can be extracted,  **'conversations' refers to messages sent by the user considered. The information is stored in a list of dictionaries where every dictionary stores a conversation with a match.**"
   ]
  },
  {
   "cell_type": "code",
   "execution_count": 11,
   "id": "96a100f0",
   "metadata": {},
   "outputs": [
    {
     "data": {
      "text/plain": [
       "{'nrOfConversations': 739,\n",
       " 'longestConversation': 133,\n",
       " 'longestConversationInDays': 683.5574421296296,\n",
       " 'averageConversationLength': 8.56021650879567,\n",
       " 'averageConversationLengthInDays': 10.236619931839824,\n",
       " 'medianConversationLength': 3,\n",
       " 'medianConversationLengthInDays': 0.08113425925925925,\n",
       " 'nrOfOneMessageConversations': 226,\n",
       " 'percentOfOneMessageConversations': 30.581867388362653,\n",
       " 'nrOfGhostingsAfterInitialMessage': 66}"
      ]
     },
     "execution_count": 11,
     "metadata": {},
     "output_type": "execute_result"
    }
   ],
   "source": [
    "# Get an idea of how conversationsMeta is\n",
    "cursor = tinder.find_one({}, {'conversationsMeta': 1})\n",
    "cursor['conversationsMeta']"
   ]
  },
  {
   "cell_type": "markdown",
   "id": "ddb9f85d",
   "metadata": {},
   "source": [
    "**Since some of the field's interpretations are not clear and no instructions or explanations were given with the data, the first mission of a data scientist is to get to understand the data at hand. Hence, let's check if the guessed meaning for each field is correct or not by computing the information through the conversations themself.**  "
   ]
  },
  {
   "cell_type": "code",
   "execution_count": 53,
   "id": "ea8a9d4e",
   "metadata": {},
   "outputs": [
    {
     "name": "stdout",
     "output_type": "stream",
     "text": [
      "nrOfConversations: 739\n",
      "longestConversation: 133\n",
      "longestConversationInDays: 683.5574421296296\n",
      "nrOfGhostingsAfterInitialMessage: 66\n"
     ]
    }
   ],
   "source": [
    "# Get conversations from a sample and get its statictics\n",
    "cursor = tinder.find_one({}, {'conversations': 1})\n",
    "\n",
    "# Number of conversations\n",
    "nrOfConversations = len(cursor['conversations'])\n",
    "\n",
    "# Longest conversation\n",
    "lens = []\n",
    "for i in range(len(cursor['conversations'])):\n",
    "     lens.append(len(cursor['conversations'][i]['messages']))\n",
    "longestConversation = max(lens)\n",
    "\n",
    "# Longest conversation in days\n",
    "import datetime\n",
    "differences = []\n",
    "for match in cursor['conversations']:\n",
    "    try:\n",
    "        d1 = datetime.datetime.strptime(match['messages'][0]['sent_date'], '%a, %d %b %Y %H:%M:%S GMT')\n",
    "        d2 = datetime.datetime.strptime(match['messages'][-1]['sent_date'], '%a, %d %b %Y %H:%M:%S GMT')\n",
    "        diff = (d2 - d1).total_seconds() / 60 / 60 / 24\n",
    "        differences.append(diff)\n",
    "    except:\n",
    "        pass\n",
    "longestConversationInDays = max(differences)\n",
    "\n",
    "# Number of ghostings after initial message\n",
    "nrOfGhostingsAfterInitialMessage = 0\n",
    "for i in range(len(cursor['conversations'])):\n",
    "    if len(cursor['conversations'][i]['messages']) == 0:\n",
    "        nrOfGhostingsAfterInitialMessage+=1\n",
    "        \n",
    "print(f\"nrOfConversations: {str(nrOfConversations)}\\nlongestConversation: {str(longestConversation)}\\nlongestConversationInDays: {str(longestConversationInDays)}\\nnrOfGhostingsAfterInitialMessage: {str(nrOfGhostingsAfterInitialMessage)}\")"
   ]
  },
  {
   "cell_type": "markdown",
   "id": "06a6a1d3",
   "metadata": {},
   "source": [
    "From what can be extracted, **'conversationsMeta' refers to the metadata of the messages sent by the user considered. The information is stored in a dictionary where the following data is found:**\n",
    "\n",
    "- **nrOfConversations**: Total number of conversations held\n",
    "- **longestConversation**: Length of the longest conversation\n",
    "- **longestConversationInDays**: Length of the longest conversation considering the days passed since the first and last messages.\n",
    "- **averageConversationLength**: Average length of the conversations held\n",
    "- **averageConversationLengthInDays**: Average length of the conversations considering the days passed since the first and last messages.\n",
    "- **medianConversationLength**:  Median length of the conversations held\n",
    "- **medianConversationLengthInDays**: Median length of the conversation considering the days passed since the first and last messages.\n",
    "- **nrOfOneMessageConversations**: Total number of conversations consisting of just one message\n",
    "- **percentOfOneMessageConversations**: Percentage of one message conversations as *nrOfOneMessageConversations/nrOfConversations*.\n",
    "- **nrOfGhostingsAfterInitialMessage**: Total number of times where a first message received (a match is starting the conversation) is not replied to by the user."
   ]
  },
  {
   "cell_type": "code",
   "execution_count": 54,
   "id": "29d75f53",
   "metadata": {},
   "outputs": [
    {
     "data": {
      "text/plain": [
       "{'2016-01-02': 10,\n",
       " '2016-01-13': 5,\n",
       " '2016-01-15': 9,\n",
       " '2016-01-17': 8,\n",
       " '2016-01-19': 6,\n",
       " '2016-01-20': 13,\n",
       " '2016-01-22': 4,\n",
       " '2016-01-30': 14,\n",
       " '2016-01-31': 2,\n",
       " '2016-02-01': 12}"
      ]
     },
     "execution_count": 54,
     "metadata": {},
     "output_type": "execute_result"
    }
   ],
   "source": [
    "# Get an idea of how matches is\n",
    "cursor = tinder.find_one({}, {'matches': 1})\n",
    "dict(list(cursor['matches'].items())[0:10])"
   ]
  },
  {
   "cell_type": "markdown",
   "id": "9dfe5aae",
   "metadata": {},
   "source": [
    "From what can be extracted, **'matches' refers to the number of total matches a user get by date**. The information is stored in a dictionary where the key is the date."
   ]
  },
  {
   "cell_type": "code",
   "execution_count": 55,
   "id": "5eaa0f39",
   "metadata": {},
   "outputs": [],
   "source": [
    "# Get an idea of how messages are\n",
    "cursor = tinder.find_one({}, {'messages': 1})"
   ]
  },
  {
   "cell_type": "code",
   "execution_count": 56,
   "id": "2ca941a7",
   "metadata": {},
   "outputs": [
    {
     "data": {
      "text/plain": [
       "{'2016-01-02': 11,\n",
       " '2016-01-13': 2,\n",
       " '2016-01-15': 1,\n",
       " '2016-01-17': 5,\n",
       " '2016-01-19': 8,\n",
       " '2016-01-20': 10,\n",
       " '2016-01-22': 2,\n",
       " '2016-01-30': 12,\n",
       " '2016-01-31': 6,\n",
       " '2016-02-01': 5}"
      ]
     },
     "execution_count": 56,
     "metadata": {},
     "output_type": "execute_result"
    }
   ],
   "source": [
    "dict(list(cursor['messages']['sent'].items())[0:10])"
   ]
  },
  {
   "cell_type": "code",
   "execution_count": 57,
   "id": "103e81c4",
   "metadata": {},
   "outputs": [
    {
     "data": {
      "text/plain": [
       "{'2016-01-02': 12,\n",
       " '2016-01-13': 3,\n",
       " '2016-01-15': 13,\n",
       " '2016-01-17': 0,\n",
       " '2016-01-19': 11,\n",
       " '2016-01-20': 6,\n",
       " '2016-01-22': 7,\n",
       " '2016-01-30': 2,\n",
       " '2016-01-31': 0,\n",
       " '2016-02-01': 7}"
      ]
     },
     "execution_count": 57,
     "metadata": {},
     "output_type": "execute_result"
    }
   ],
   "source": [
    "dict(list(cursor['messages']['received'].items())[0:10])"
   ]
  },
  {
   "cell_type": "markdown",
   "id": "d3522bb9",
   "metadata": {},
   "source": [
    "From what can be extracted, **'messages' refers to the number of total messages a user sends or receives by date**. The information is stored in a dictionary where the keys are 'sent' and 'received'. In a similar way, each key refers to a dictionary where the key is the date and the value of the number of messages."
   ]
  },
  {
   "cell_type": "code",
   "execution_count": 58,
   "id": "d64f80d3",
   "metadata": {},
   "outputs": [
    {
     "name": "stdout",
     "output_type": "stream",
     "text": [
      "messages and messagesReceived contained the same information: True\n",
      "messages and messagesSent contained the same information: True\n"
     ]
    }
   ],
   "source": [
    "# Get an idea of how messagesReceived and messagesSent are\n",
    "cursor = tinder.find_one({}, {'messagesReceived': 1, 'messagesSent': 1, 'messages': 1, })\n",
    "\n",
    "# Check if messagesReceived and messsages contain the same information\n",
    "equal_received = True\n",
    "for key in cursor['messagesReceived'].keys():\n",
    "    if cursor['messages']['received'][key] != cursor['messagesReceived'][key]:\n",
    "        equal_received = False\n",
    "\n",
    "# Check if messagesSent and messsages contain the same information\n",
    "equal_sent = True\n",
    "for key in cursor['messagesSent'].keys():\n",
    "    if cursor['messages']['sent'][key] != cursor['messagesSent'][key]:\n",
    "        equal_sent = False      \n",
    "        \n",
    "print(f\"messages and messagesReceived contained the same information: {equal_received}\")\n",
    "print(f\"messages and messagesSent contained the same information: {equal_sent}\")"
   ]
  },
  {
   "cell_type": "markdown",
   "id": "ad04f291",
   "metadata": {},
   "source": [
    "**As can be seen,  'messagesReceived', 'messagesSent' and 'messages' contain the same information and thus,  'messagesReceived', 'messagesSent'  can be deleted since it is redundant information.**"
   ]
  },
  {
   "cell_type": "code",
   "execution_count": 59,
   "id": "ffa485a0",
   "metadata": {},
   "outputs": [],
   "source": [
    "# Get an idea of how swipePasses are\n",
    "cursor = tinder.find_one({}, {'swipes': 1})"
   ]
  },
  {
   "cell_type": "code",
   "execution_count": 60,
   "id": "9158a6f3",
   "metadata": {},
   "outputs": [
    {
     "data": {
      "text/plain": [
       "{'2016-01-02': 50,\n",
       " '2016-01-13': 70,\n",
       " '2016-01-15': 21,\n",
       " '2016-01-17': 5,\n",
       " '2016-01-19': 29,\n",
       " '2016-01-20': 92,\n",
       " '2016-01-22': 27,\n",
       " '2016-01-30': 77,\n",
       " '2016-01-31': 84,\n",
       " '2016-02-01': 76}"
      ]
     },
     "execution_count": 60,
     "metadata": {},
     "output_type": "execute_result"
    }
   ],
   "source": [
    "dict(list(cursor['swipes']['likes'].items())[0:10])"
   ]
  },
  {
   "cell_type": "code",
   "execution_count": 61,
   "id": "47d98d25",
   "metadata": {},
   "outputs": [
    {
     "data": {
      "text/plain": [
       "{'2016-01-02': 14,\n",
       " '2016-01-13': 93,\n",
       " '2016-01-15': 75,\n",
       " '2016-01-17': 96,\n",
       " '2016-01-19': 71,\n",
       " '2016-01-20': 38,\n",
       " '2016-01-22': 76,\n",
       " '2016-01-30': 56,\n",
       " '2016-01-31': 21,\n",
       " '2016-02-01': 49}"
      ]
     },
     "execution_count": 61,
     "metadata": {},
     "output_type": "execute_result"
    }
   ],
   "source": [
    "dict(list(cursor['swipes']['passes'].items())[0:10])"
   ]
  },
  {
   "cell_type": "markdown",
   "id": "032ba263",
   "metadata": {},
   "source": [
    "From what can be extracted, **'swipes' refers to the number of total swipes a user performs. The information is stored in a dictionary where the keys are 'likes' and 'passes', each one referring to the swipes for people the user likes and for people the user doesn't like respectively.** Similarly, each key refers to a dictionary where the key is the date and the value of the number of swipes."
   ]
  },
  {
   "cell_type": "code",
   "execution_count": 62,
   "id": "15d835d4",
   "metadata": {},
   "outputs": [
    {
     "name": "stdout",
     "output_type": "stream",
     "text": [
      "swipeLikes and swipes contained the same information: True\n",
      "swipePasses and swipes contained the same information: True\n"
     ]
    }
   ],
   "source": [
    "# Get an idea of how swipeLikes are and swipePasses are\n",
    "cursor = tinder.find_one({}, {'swipeLikes': 1, 'swipePasses': 1, 'swipes': 1, })\n",
    "\n",
    "# Check if swipeLikes and swipes contain the same information\n",
    "equal_likes = True\n",
    "for key in cursor['swipeLikes'].keys():\n",
    "    if cursor['swipes']['likes'][key] != cursor['swipeLikes'][key]:\n",
    "        equal_received = False\n",
    "\n",
    "# Check if swipePasses and swipes contain the same information\n",
    "equal_passes = True\n",
    "for key in cursor['swipePasses'].keys():\n",
    "    if cursor['swipes']['passes'][key] != cursor['swipePasses'][key]:\n",
    "        equal_sent = False      \n",
    "        \n",
    "print(f\"swipeLikes and swipes contained the same information: {equal_likes}\")\n",
    "print(f\"swipePasses and swipes contained the same information: {equal_passes}\")"
   ]
  },
  {
   "cell_type": "markdown",
   "id": "d08882a6",
   "metadata": {},
   "source": [
    "**As can be seen,  'swipeLikes', 'swipePasses' and 'swipes' contain the same information and thus,  'swipeLikes', 'swipePasses'  can be deleted since it is redundant information.**"
   ]
  },
  {
   "cell_type": "code",
   "execution_count": 63,
   "id": "0f9d4a50",
   "metadata": {},
   "outputs": [
    {
     "data": {
      "text/plain": [
       "{'birthDate': '1996-11-10T00:00:00.000Z',\n",
       " 'ageFilterMin': 18,\n",
       " 'ageFilterMax': 27,\n",
       " 'createDate': '2017-11-17T23:30:37.231Z',\n",
       " 'education': 'Has no high school or college education',\n",
       " 'gender': 'M',\n",
       " 'interestedIn': 'F',\n",
       " 'genderFilter': 'F',\n",
       " 'instagram': True,\n",
       " 'spotify': False,\n",
       " 'jobs': [{'companyDisplayed': False,\n",
       "   'titleDisplayed': True,\n",
       "   'title': 'Research Assistant'}],\n",
       " 'educationLevel': 'Has no high school or college education',\n",
       " 'schools': [{'displayed': True, 'name': 'Humboldt-Universität zu Berlin'}]}"
      ]
     },
     "execution_count": 63,
     "metadata": {},
     "output_type": "execute_result"
    }
   ],
   "source": [
    "# Get an idea of how user is\n",
    "cursor = tinder.find_one({'user.jobs': {'$ne': []}}, {'user': 1})\n",
    "cursor['user']"
   ]
  },
  {
   "cell_type": "code",
   "execution_count": 88,
   "id": "192d18ff",
   "metadata": {},
   "outputs": [
    {
     "name": "stdout",
     "output_type": "stream",
     "text": [
      "['Has high school and/or college education', 'Has no high school or college education']\n",
      "['Has high school and/or college education', 'Has no high school or college education']\n",
      "\n",
      "user.education and user.educationLevel contained the same information: True\n"
     ]
    }
   ],
   "source": [
    "# Get different values for education\n",
    "print(tinder.distinct('user.education'))\n",
    "\n",
    "# Get different values for education level\n",
    "print(f\"{tinder.distinct('user.educationLevel')}\\n\")\n",
    "\n",
    "# Check if user.education and user.educationLevel contain the same information\n",
    "equal_education = True\n",
    "cursor = tinder.find({}, {'user': 1})\n",
    "for user in cursor:\n",
    "    if user['user']['education'] != user['user']['educationLevel']:\n",
    "        equal_education = False\n",
    "print(f\"user.education and user.educationLevel contained the same information: {equal_education}\")"
   ]
  },
  {
   "cell_type": "markdown",
   "id": "9c9235d7",
   "metadata": {},
   "source": [
    "As can be seen, 'user.education' and 'user.educationLevel'contain the same information and thus, 'user.educationLevel', 'swipePasses' can be deleted since it is redundant information."
   ]
  },
  {
   "cell_type": "code",
   "execution_count": 70,
   "id": "57018d2a",
   "metadata": {},
   "outputs": [
    {
     "data": {
      "text/plain": [
       "['', 'F', 'M']"
      ]
     },
     "execution_count": 70,
     "metadata": {},
     "output_type": "execute_result"
    }
   ],
   "source": [
    "# Get different values for gender\n",
    "tinder.distinct('user.gender')"
   ]
  },
  {
   "cell_type": "code",
   "execution_count": 69,
   "id": "93e94447",
   "metadata": {},
   "outputs": [
    {
     "data": {
      "text/plain": [
       "['', 'F', 'M', 'M and F']"
      ]
     },
     "execution_count": 69,
     "metadata": {},
     "output_type": "execute_result"
    }
   ],
   "source": [
    "# Get different values for gender filter\n",
    "tinder.distinct('user.genderFilter')"
   ]
  },
  {
   "cell_type": "markdown",
   "id": "b274a9e2",
   "metadata": {},
   "source": [
    "From what can be extracted,  **'user' refers to the personal data of the user considered. The information is stored in a dictionary** where the following data is found:\n",
    "\n",
    "- **birthDate**\n",
    "- **ageFilterMin**: Minimum age parameter for profiles displayed to the user.\n",
    "- **ageFilterMax**: Maximum age parameter for profiles displayed to the user.\n",
    "- **createDate**: Profile creation date\n",
    "- **education**: Whether the profile has or has not high school or college education.\n",
    "- **gender**: M and F as possible values\n",
    "- **interestedIn**: Gender the profile is interested in. M, F or M and F.\n",
    "- **genderFilter**: Gender parameter for profiles displayed to the user.\n",
    "- **instagram**: Whether the profile links to an Instagram profile or not\n",
    "- **spotify**: Whether the profile links to a Spotify profile or not\n",
    "- **jobs**: Dictionary with job information containing: companyDisplayed (whether the company is displayed or not), titleDisplayed (whether the job title is displayed or not) and title.\n",
    "- **educationLevel**: Whether the profile has or has not high school or college education.\n",
    "- **schools**: Dictionary with school information containing: displayed (whether the school name is displayed or not), and name."
   ]
  },
  {
   "cell_type": "code",
   "execution_count": 64,
   "id": "a09c0b52",
   "metadata": {},
   "outputs": [
    {
     "data": {
      "text/plain": [
       "True"
      ]
     },
     "execution_count": 64,
     "metadata": {},
     "output_type": "execute_result"
    }
   ],
   "source": [
    "# Check if '_id' is equal to 'userId'\n",
    "tinder.distinct('_id') == tinder.distinct('userId')"
   ]
  },
  {
   "cell_type": "markdown",
   "id": "9ba44cef",
   "metadata": {},
   "source": [
    "**'_id' and 'userId' store the same information. Thus, 'userId' can be deleted since it is redundant information.**"
   ]
  },
  {
   "cell_type": "code",
   "execution_count": 71,
   "id": "c0a653b9",
   "metadata": {},
   "outputs": [
    {
     "name": "stdout",
     "output_type": "stream",
     "text": [
      "['_id', '__v', 'appOpens', 'conversations', 'conversationsMeta.nrOfConversations', 'conversationsMeta.longestConversation', 'conversationsMeta.longestConversationInDays', 'conversationsMeta.averageConversationLength', 'conversationsMeta.averageConversationLengthInDays', 'conversationsMeta.medianConversationLength', 'conversationsMeta.medianConversationLengthInDays', 'conversationsMeta.nrOfOneMessageConversations', 'conversationsMeta.percentOfOneMessageConversations', 'conversationsMeta.nrOfGhostingsAfterInitialMessage', 'matches', 'messages', 'messagesReceived', 'messagesSent', 'swipeLikes', 'swipePasses', 'swipes.likes', 'swipes.passes', 'user.birthDate', 'user.ageFilterMin', 'user.ageFilterMax', 'user.cityName', 'user.country', 'user.createDate', 'user.education', 'user.gender', 'user.interestedIn', 'user.genderFilter', 'user.instagram', 'user.spotify', 'user.jobs', 'user.educationLevel', 'user.schools', 'userId']\n"
     ]
    }
   ],
   "source": [
    "# Get subkeys for interesting fields\n",
    "cursor = tinder.find_one()\n",
    "\n",
    "keys = []\n",
    "for key in cursor.keys():\n",
    "    \n",
    "    if type(cursor[key]) == dict and key in ['conversationsMeta', 'swipes', 'user']:\n",
    "        for nested_key in cursor[key].keys():\n",
    "            keys.append(key + '.' + nested_key)\n",
    "    else:\n",
    "        keys.append(key)\n",
    "        \n",
    "print(keys)"
   ]
  },
  {
   "cell_type": "markdown",
   "id": "1ec617cf",
   "metadata": {},
   "source": [
    "# Data exploration"
   ]
  },
  {
   "cell_type": "code",
   "execution_count": null,
   "id": "5bfd6453",
   "metadata": {},
   "outputs": [],
   "source": []
  },
  {
   "cell_type": "code",
   "execution_count": null,
   "id": "278e38dc",
   "metadata": {},
   "outputs": [],
   "source": []
  },
  {
   "cell_type": "code",
   "execution_count": null,
   "id": "b72bcc1c",
   "metadata": {},
   "outputs": [],
   "source": []
  },
  {
   "cell_type": "code",
   "execution_count": 99,
   "id": "e3f3f916",
   "metadata": {},
   "outputs": [],
   "source": [
    "cursor = tinder.find({\"user.instagram\": True}, {'user': 1, 'conversationsMeta': 1, 'matches': 1}).limit(1)"
   ]
  },
  {
   "cell_type": "markdown",
   "id": "1bcd7c5b",
   "metadata": {},
   "source": [
    "## Missing values"
   ]
  },
  {
   "cell_type": "code",
   "execution_count": 72,
   "id": "d474d6ed",
   "metadata": {},
   "outputs": [
    {
     "name": "stdout",
     "output_type": "stream",
     "text": [
      "'' in user.cityName\n",
      "* in user.cityName\n",
      "'' in user.country\n",
      "'' in user.gender\n",
      "'' in user.interestedIn\n",
      "'' in user.genderFilter\n"
     ]
    }
   ],
   "source": [
    "for key in keys:\n",
    "    try: \n",
    "        distint_values = tinder.distinct(key)\n",
    "        if '' in distint_values: print(f\"'' in {key}\")\n",
    "        if None in distint_values: print(f\"None in {key}\")\n",
    "        if 'none' in distint_values: print(f\"none in {key}\")\n",
    "        if 'null' in distint_values: print(f\"null in {key}\")\n",
    "        if 'Null' in distint_values: print(f\"Null in {key}\")\n",
    "        if 'void' in distint_values: print(f\"void in {key}\")\n",
    "        if 'Void' in distint_values: print(f\"Void in {key}\")\n",
    "        if '*' in distint_values: print(f\"* in {key}\")\n",
    "    except: \n",
    "        pass"
   ]
  },
  {
   "cell_type": "code",
   "execution_count": 89,
   "id": "d2a6ed1f",
   "metadata": {},
   "outputs": [
    {
     "data": {
      "text/plain": [
       "['', 'F', 'M', 'M and F']"
      ]
     },
     "execution_count": 89,
     "metadata": {},
     "output_type": "execute_result"
    }
   ],
   "source": [
    "# Get all possible values of occupation\n",
    "cursor = tinder.distinct('user.genderFilter')\n",
    "list(cursor)"
   ]
  },
  {
   "cell_type": "code",
   "execution_count": 9,
   "id": "20bc42be",
   "metadata": {},
   "outputs": [
    {
     "data": {
      "text/plain": [
       "['Has high school and/or college education',\n",
       " 'Has no high school or college education']"
      ]
     },
     "execution_count": 9,
     "metadata": {},
     "output_type": "execute_result"
    }
   ],
   "source": [
    "# Get all possible values of occupation\n",
    "cursor = tinder.distinct('user.educationLevel')\n",
    "list(cursor)"
   ]
  },
  {
   "cell_type": "code",
   "execution_count": 13,
   "id": "d47ee1f2",
   "metadata": {},
   "outputs": [
    {
     "data": {
      "text/plain": [
       "[{'_id': '7060673d6a49675f985a98f463bb0350',\n",
       "  'conversationsMeta': {'nrOfConversations': 0,\n",
       "   'longestConversation': 0,\n",
       "   'longestConversationInDays': 0,\n",
       "   'averageConversationLength': 0,\n",
       "   'averageConversationLengthInDays': 0,\n",
       "   'medianConversationLength': 0,\n",
       "   'medianConversationLengthInDays': 0,\n",
       "   'nrOfOneMessageConversations': 0,\n",
       "   'percentOfOneMessageConversations': 0,\n",
       "   'nrOfGhostingsAfterInitialMessage': 0},\n",
       "  'matches': {'2021-02-19': 0,\n",
       "   '2021-02-20': 0,\n",
       "   '2021-02-21': 0,\n",
       "   '2021-02-23': 0,\n",
       "   '2021-02-24': 0,\n",
       "   '2021-03-24': 0,\n",
       "   '2021-04-12': 3,\n",
       "   '2021-04-13': 0,\n",
       "   '2021-04-14': 0},\n",
       "  'user': {'birthDate': '1900-11-11T00:00:00.000Z',\n",
       "   'ageFilterMin': 29,\n",
       "   'ageFilterMax': 1000,\n",
       "   'cityName': '',\n",
       "   'country': '',\n",
       "   'createDate': '2021-02-19T09:23:23.940Z',\n",
       "   'education': 'Has no high school or college education',\n",
       "   'gender': 'M',\n",
       "   'interestedIn': 'F',\n",
       "   'genderFilter': 'F',\n",
       "   'instagram': False,\n",
       "   'spotify': False,\n",
       "   'jobs': [{'companyDisplayed': False, 'titleDisplayed': True, 'title': ''}],\n",
       "   'educationLevel': 'Has no high school or college education'}}]"
      ]
     },
     "execution_count": 13,
     "metadata": {},
     "output_type": "execute_result"
    }
   ],
   "source": [
    "cursor = tinder.find({\"user.cityName\": ''},\n",
    "                     {'user': 1, 'conversationsMeta': 1, 'matches': 1})\n",
    "list(cursor)"
   ]
  },
  {
   "cell_type": "markdown",
   "id": "cb5edb94",
   "metadata": {},
   "source": [
    "# Data analysis"
   ]
  },
  {
   "cell_type": "code",
   "execution_count": null,
   "id": "caa49656",
   "metadata": {},
   "outputs": [],
   "source": []
  },
  {
   "cell_type": "markdown",
   "id": "4bc58a01",
   "metadata": {},
   "source": [
    "# Conclusions"
   ]
  },
  {
   "cell_type": "markdown",
   "id": "16a96db5",
   "metadata": {},
   "source": [
    "# Close connection with database"
   ]
  },
  {
   "cell_type": "code",
   "execution_count": 2,
   "id": "fd76d3ef",
   "metadata": {},
   "outputs": [],
   "source": [
    "# Drop table\n",
    "tinder.drop()\n",
    "\n",
    "# Close connection\n",
    "client.close()"
   ]
  }
 ],
 "metadata": {
  "kernelspec": {
   "display_name": "Python 3 (ipykernel)",
   "language": "python",
   "name": "python3"
  },
  "language_info": {
   "codemirror_mode": {
    "name": "ipython",
    "version": 3
   },
   "file_extension": ".py",
   "mimetype": "text/x-python",
   "name": "python",
   "nbconvert_exporter": "python",
   "pygments_lexer": "ipython3",
   "version": "3.10.8"
  }
 },
 "nbformat": 4,
 "nbformat_minor": 5
}
