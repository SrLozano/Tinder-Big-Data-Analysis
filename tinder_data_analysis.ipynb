{
 "cells": [
  {
   "cell_type": "markdown",
   "id": "161d2de1",
   "metadata": {},
   "source": [
    "# Tinder Analysis"
   ]
  },
  {
   "cell_type": "code",
   "execution_count": 23,
   "id": "ff4f8a24",
   "metadata": {},
   "outputs": [
    {
     "data": {
      "text/plain": [
       "\"\\nimport pandas as pd\\nimport numpy as np\\n\\nprofiles = pd.read_csv('tinder_dataset/profiles_2021-11-10.csv')\\nprofiles\\n\\ndf = pd.read_json('tinder_dataset/profiles_2021-11-10.json')\\ndf\""
      ]
     },
     "execution_count": 23,
     "metadata": {},
     "output_type": "execute_result"
    }
   ],
   "source": [
    "'''\n",
    "import pandas as pd\n",
    "import numpy as np\n",
    "\n",
    "profiles = pd.read_csv('tinder_dataset/profiles_2021-11-10.csv')\n",
    "profiles\n",
    "\n",
    "df = pd.read_json('tinder_dataset/profiles_2021-11-10.json')\n",
    "df'''"
   ]
  },
  {
   "cell_type": "markdown",
   "id": "3c7a2e89",
   "metadata": {},
   "source": [
    "# Mongo DB"
   ]
  },
  {
   "cell_type": "code",
   "execution_count": 22,
   "id": "83c48fa5",
   "metadata": {},
   "outputs": [
    {
     "name": "stdout",
     "output_type": "stream",
     "text": [
      "['admin', 'config', 'local']\n"
     ]
    }
   ],
   "source": [
    "import json\n",
    "import pymongo\n",
    "from pymongo import MongoClient\n",
    "\n",
    "client = MongoClient('localhost', 27017, username='mongoadmin', password='pass1234')\n",
    "\n",
    "# Get the list of DBs already defined\n",
    "print(client.list_database_names())\n",
    "\n",
    "# Create a new DB - bda\n",
    "database = client['bda']\n",
    "\n",
    "# Create a collection\n",
    "adults = database.adults\n",
    "\n",
    "# Load the data\n",
    "with open('tinder_dataset/profiles_2021-11-10.json', 'r') as f:\n",
    "    data = json.load(f)"
   ]
  },
  {
   "cell_type": "code",
   "execution_count": null,
   "id": "abdba3cd",
   "metadata": {},
   "outputs": [],
   "source": [
    "data"
   ]
  },
  {
   "cell_type": "code",
   "execution_count": null,
   "id": "af4ebd5a",
   "metadata": {},
   "outputs": [],
   "source": [
    "type(data)"
   ]
  },
  {
   "cell_type": "code",
   "execution_count": 24,
   "id": "1d96b8d6",
   "metadata": {},
   "outputs": [
    {
     "ename": "AttributeError",
     "evalue": "'list' object has no attribute 'values'",
     "output_type": "error",
     "traceback": [
      "\u001b[0;31m---------------------------------------------------------------------------\u001b[0m",
      "\u001b[0;31mAttributeError\u001b[0m                            Traceback (most recent call last)",
      "Cell \u001b[0;32mIn [24], line 2\u001b[0m\n\u001b[1;32m      1\u001b[0m \u001b[38;5;66;03m# Load the data\u001b[39;00m\n\u001b[0;32m----> 2\u001b[0m adults_list \u001b[38;5;241m=\u001b[39m \u001b[38;5;28mlist\u001b[39m(\u001b[43mdata\u001b[49m\u001b[38;5;241;43m.\u001b[39;49m\u001b[43mvalues\u001b[49m())\n\u001b[1;32m      3\u001b[0m result \u001b[38;5;241m=\u001b[39m adults\u001b[38;5;241m.\u001b[39minsert_many(adults_list)\n\u001b[1;32m      4\u001b[0m adults\u001b[38;5;241m.\u001b[39mcount_documents({})\n",
      "\u001b[0;31mAttributeError\u001b[0m: 'list' object has no attribute 'values'"
     ]
    }
   ],
   "source": [
    "# Load the data\n",
    "adults_list = list(data.values())\n",
    "result = adults.insert_many(adults_list)\n",
    "adults.count_documents({})"
   ]
  },
  {
   "cell_type": "code",
   "execution_count": null,
   "id": "01ad6a67",
   "metadata": {},
   "outputs": [],
   "source": [
    "# Check if data was loaded correctly\n",
    "adults.find_one()"
   ]
  }
 ],
 "metadata": {
  "kernelspec": {
   "display_name": "Python 3 (ipykernel)",
   "language": "python",
   "name": "python3"
  },
  "language_info": {
   "codemirror_mode": {
    "name": "ipython",
    "version": 3
   },
   "file_extension": ".py",
   "mimetype": "text/x-python",
   "name": "python",
   "nbconvert_exporter": "python",
   "pygments_lexer": "ipython3",
   "version": "3.10.8"
  }
 },
 "nbformat": 4,
 "nbformat_minor": 5
}
