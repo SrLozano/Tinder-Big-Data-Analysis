{
 "cells": [
  {
   "cell_type": "markdown",
   "id": "161d2de1",
   "metadata": {},
   "source": [
    "# Tinder Analysis"
   ]
  },
  {
   "cell_type": "markdown",
   "id": "3c7a2e89",
   "metadata": {},
   "source": [
    "# Mongo DB Data load"
   ]
  },
  {
   "cell_type": "code",
   "execution_count": null,
   "id": "83c48fa5",
   "metadata": {},
   "outputs": [
    {
     "name": "stdout",
     "output_type": "stream",
     "text": [
      "['admin', 'bda', 'config', 'local']\n"
     ]
    }
   ],
   "source": [
    "import json\n",
    "import pymongo\n",
    "from pymongo import MongoClient\n",
    "\n",
    "client = MongoClient('localhost', 27017, username='mongoadmin', password='pass1234')\n",
    "\n",
    "# Get the list of DBs already defined\n",
    "print(client.list_database_names())\n",
    "\n",
    "# Create a new DB - bda\n",
    "database = client['bda']\n",
    "\n",
    "# Create a collection\n",
    "tinder = database.tinder\n",
    "\n",
    "# Load the data\n",
    "with open('tinder_dataset/profiles_2021-11-10.json', 'r') as f:\n",
    "    data = json.load(f)"
   ]
  },
  {
   "cell_type": "code",
   "execution_count": null,
   "id": "1d96b8d6",
   "metadata": {},
   "outputs": [],
   "source": [
    "# Load the data\n",
    "result = tinder.insert_many(data)\n",
    "tinder.count_documents({})"
   ]
  },
  {
   "cell_type": "code",
   "execution_count": null,
   "id": "01ad6a67",
   "metadata": {},
   "outputs": [],
   "source": [
    "# Check if data was loaded correctly\n",
    "tinder.find_one()"
   ]
  },
  {
   "cell_type": "code",
   "execution_count": null,
   "id": "896f6e85",
   "metadata": {},
   "outputs": [],
   "source": [
    "cursor = tinder.find({\"user.instagram\": True})\n",
    "list(cursor)[13]"
   ]
  }
 ],
 "metadata": {
  "kernelspec": {
   "display_name": "Python 3 (ipykernel)",
   "language": "python",
   "name": "python3"
  },
  "language_info": {
   "codemirror_mode": {
    "name": "ipython",
    "version": 3
   },
   "file_extension": ".py",
   "mimetype": "text/x-python",
   "name": "python",
   "nbconvert_exporter": "python",
   "pygments_lexer": "ipython3",
   "version": "3.10.8"
  }
 },
 "nbformat": 4,
 "nbformat_minor": 5
}
